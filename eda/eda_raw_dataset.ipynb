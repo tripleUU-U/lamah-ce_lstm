{
 "cells": [
  {
   "cell_type": "code",
   "execution_count": 22,
   "id": "cbc1c010",
   "metadata": {},
   "outputs": [],
   "source": [
    "import re\n",
    "\n",
    "import pandas as pd\n",
    "import numpy as np\n",
    "\n",
    "from pathlib import Path\n",
    "from collections import defaultdict\n",
    "from tqdm import tqdm"
   ]
  },
  {
   "cell_type": "code",
   "execution_count": 23,
   "id": "84d38c08",
   "metadata": {},
   "outputs": [],
   "source": [
    "lamah_ce_path = Path(\"/home/wuhlmann/BA/data/raw_data/LamaH-CE_daily\")"
   ]
  },
  {
   "cell_type": "markdown",
   "id": "df5110be",
   "metadata": {},
   "source": [
    "#### Confirm integretity for climatic timeseries, hydrologic indices and static attributes. "
   ]
  },
  {
   "cell_type": "code",
   "execution_count": 30,
   "id": "985f2875",
   "metadata": {},
   "outputs": [],
   "source": [
    "B_climatic_timeseries_path = lamah_ce_path / \"B_basins_intermediate_all/2_timeseries/daily\"\n",
    "C_climatic_timeseries_path = lamah_ce_path / \"C_basins_intermediate_lowimp/2_timeseries/daily\"\n",
    "hydrologic_signatures_path = lamah_ce_path / \"D_gauges/1_attributes/Hydro_indices_1981_2017.csv\"\n",
    "\n",
    "B_timeseries_paths = list(sorted(B_climatic_timeseries_path.glob(\"*.csv\")))\n",
    "C_timeseries_paths = list(sorted(C_climatic_timeseries_path.glob(\"*.csv\")))\n",
    "\n",
    "# Get IDs of low impact basins. \n",
    "C_ids = []\n",
    "for p in C_timeseries_paths:\n",
    "    stem = Path(p).stem\n",
    "    match = re.search(r'\\d+', stem)\n",
    "    if match:\n",
    "        C_ids.append(int(match.group()))\n",
    "C_ids = sorted(C_ids)"
   ]
  },
  {
   "cell_type": "markdown",
   "id": "e782456d",
   "metadata": {},
   "source": [
    "Climatic values do not contain any NA, as expected from ERA5 data. "
   ]
  },
  {
   "cell_type": "code",
   "execution_count": 28,
   "id": "9b2ef8bd",
   "metadata": {},
   "outputs": [
    {
     "name": "stderr",
     "output_type": "stream",
     "text": [
      "100%|██████████| 859/859 [00:24<00:00, 34.97it/s]\n"
     ]
    }
   ],
   "source": [
    "for path in tqdm(B_timeseries_paths):\n",
    "\n",
    "    ts = pd.read_table(path, sep=\";\", header=0)\n",
    "\n",
    "    if ts.isnull().values.any(): \n",
    "        print(f\"Climatic data {path.stem} contains NA\")"
   ]
  },
  {
   "cell_type": "markdown",
   "id": "bd8eee34",
   "metadata": {},
   "source": [
    "17/9 Basins contain NA in their hydrologic indices, 4/2 of those only at the baseflow indices, if they are not used as predictor, still usable. Discard other 13/7 catchments. "
   ]
  },
  {
   "cell_type": "code",
   "execution_count": 40,
   "id": "9b1a9862",
   "metadata": {},
   "outputs": [
    {
     "name": "stdout",
     "output_type": "stream",
     "text": [
      "      ID  q_mean  runoff_ratio  stream_elas  slope_fdc  baseflow_index_ladson  \\\n",
      "53    55     NaN           NaN          NaN        NaN                    NaN   \n",
      "316  319     NaN           NaN          NaN        NaN                    NaN   \n",
      "349  352   0.404         0.207        1.559      2.474                    NaN   \n",
      "369  376     NaN           NaN          NaN        NaN                    NaN   \n",
      "399  407     NaN           NaN          NaN        NaN                    NaN   \n",
      "402  410     NaN           NaN          NaN        NaN                    NaN   \n",
      "406  414   0.184         0.062        5.272        NaN                  0.331   \n",
      "533  551     NaN           NaN          NaN        NaN                    NaN   \n",
      "535  553     NaN           NaN          NaN        NaN                    NaN   \n",
      "555  573     NaN           NaN          NaN        NaN                    NaN   \n",
      "607  625     NaN           NaN          NaN        NaN                    NaN   \n",
      "657  675     NaN           NaN          NaN        NaN                    NaN   \n",
      "665  683   2.344         0.492        2.424      2.275                    NaN   \n",
      "678  696     NaN           NaN          NaN        NaN                    NaN   \n",
      "717  736   0.570         0.162        2.518        NaN                    NaN   \n",
      "732  752     NaN           NaN          NaN        NaN                    NaN   \n",
      "766  789     NaN           NaN          NaN        NaN                    NaN   \n",
      "\n",
      "     baseflow_index_lfstat  hfd_mean     Q5    Q95  high_q_freq  high_q_dur  \\\n",
      "53                     NaN       NaN    NaN    NaN          NaN         NaN   \n",
      "316                    NaN       NaN    NaN    NaN          NaN         NaN   \n",
      "349                    NaN   189.486  0.039  1.165        6.591       2.444   \n",
      "369                    NaN       NaN    NaN    NaN          NaN         NaN   \n",
      "399                    NaN       NaN    NaN    NaN          NaN         NaN   \n",
      "402                    NaN       NaN    NaN    NaN          NaN         NaN   \n",
      "406                  0.268   217.722  0.000  0.902      180.028      21.042   \n",
      "533                    NaN       NaN    NaN    NaN          NaN         NaN   \n",
      "535                    NaN       NaN    NaN    NaN          NaN         NaN   \n",
      "555                    NaN       NaN    NaN    NaN          NaN         NaN   \n",
      "607                    NaN       NaN    NaN    NaN          NaN         NaN   \n",
      "657                    NaN       NaN    NaN    NaN          NaN         NaN   \n",
      "665                    NaN   241.229  0.587  5.462        0.204       1.400   \n",
      "678                    NaN       NaN    NaN    NaN          NaN         NaN   \n",
      "717                    NaN   144.028  0.000  2.042       17.918       3.682   \n",
      "732                    NaN       NaN    NaN    NaN          NaN         NaN   \n",
      "766                    NaN       NaN    NaN    NaN          NaN         NaN   \n",
      "\n",
      "     low_q_freq  low_q_dur  zero_q_freq  \n",
      "53          NaN        NaN          NaN  \n",
      "316         NaN        NaN          NaN  \n",
      "349      47.723      7.622        0.013  \n",
      "369         NaN        NaN          NaN  \n",
      "399         NaN        NaN          NaN  \n",
      "402         NaN        NaN          NaN  \n",
      "406     228.139     22.019        0.507  \n",
      "533         NaN        NaN          NaN  \n",
      "535         NaN        NaN          NaN  \n",
      "555         NaN        NaN          NaN  \n",
      "607         NaN        NaN          NaN  \n",
      "657         NaN        NaN          NaN  \n",
      "665       7.359      9.000        0.000  \n",
      "678         NaN        NaN          NaN  \n",
      "717     158.196     27.361        0.358  \n",
      "732         NaN        NaN          NaN  \n",
      "766         NaN        NaN          NaN  \n"
     ]
    }
   ],
   "source": [
    "hydrologic_signatures = pd.read_table(hydrologic_signatures_path, header=0, sep=\";\")\n",
    "\n",
    "A_B_basins_with_NA = hydrologic_signatures[hydrologic_signatures.isna().any(axis=1)]\n",
    "print(A_B_basins_with_NA)\n",
    "\n",
    "C_hydrologic_signatures = hydrologic_signatures[hydrologic_signatures[\"ID\"].isin(C_ids)]\n",
    "\n",
    "C_basins_with_NA = C_hydrologic_signatures[C_hydrologic_signatures.isna().any(axis=1)]\n",
    "#C_basins_with_NA"
   ]
  },
  {
   "cell_type": "code",
   "execution_count": 38,
   "id": "0735519c",
   "metadata": {},
   "outputs": [],
   "source": [
    "B_static_attributes_path = lamah_ce_path / \"B_basins_intermediate_all/1_attributes/Catchment_attributes.csv\"\n",
    "B_static_attributes = pd.read_table(B_static_attributes_path, header=0, sep=\";\")\n",
    "B_basins_NA_attr =  B_static_attributes[B_static_attributes.isna().any(axis=1)]\n",
    "\n",
    "C_static_attributes_path = lamah_ce_path / \"C_basins_intermediate_lowimp/1_attributes/Catchment_attributes.csv\"\n",
    "C_static_attributes = pd.read_table(C_static_attributes_path, header=0, sep=\";\")\n",
    "C_basins_NA_attr = C_static_attributes[C_static_attributes.isna().any(axis=1)]\n"
   ]
  },
  {
   "cell_type": "code",
   "execution_count": 41,
   "id": "161ed568",
   "metadata": {},
   "outputs": [
    {
     "name": "stdout",
     "output_type": "stream",
     "text": [
      "53 21\n"
     ]
    }
   ],
   "source": [
    "print(len(B_basins_NA_attr), len(C_basins_NA_attr))"
   ]
  }
 ],
 "metadata": {
  "kernelspec": {
   "display_name": "lamah-ce_lstm",
   "language": "python",
   "name": "python3"
  },
  "language_info": {
   "codemirror_mode": {
    "name": "ipython",
    "version": 3
   },
   "file_extension": ".py",
   "mimetype": "text/x-python",
   "name": "python",
   "nbconvert_exporter": "python",
   "pygments_lexer": "ipython3",
   "version": "3.13.5"
  }
 },
 "nbformat": 4,
 "nbformat_minor": 5
}
